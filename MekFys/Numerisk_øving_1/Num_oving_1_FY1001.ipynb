{
 "cells": [
  {
   "cell_type": "markdown",
   "metadata": {},
   "source": [
    "# Lagring og illustrasjon av genererte data\n",
    "\n",
    "## FY1001 Mekanisk fysikk - Programmerings-øving 1"
   ]
  },
  {
   "cell_type": "markdown",
   "metadata": {},
   "source": [
    "__Forhåndskunnskaper:__ Datahåndtering med lister. Anvendelse av for-løkker med lister. Plotting av data med matplotlib. Bruk av egendefinerte python-funskjoner."
   ]
  },
  {
   "cell_type": "markdown",
   "metadata": {},
   "source": [
    "__Mål for øvinga:__ Hvordan anvende python-funskjoner for å gjøre utregninger med for-løkker. Datahåndtering og utskrift av data til skjerm. Manipulering av lister og liste-indeksering for å lagre og håndtere data med python. Plotting av 2D-data for å visualisere data lagd med python-kode. Bli kjent med biblioteket numpy. Forstå hvordan du kan skrive til fil og lese fra fil.\n",
    "Se hvordan man illustrerer flere grafer i samme figur. Lære bruk av matplotlib legend for å skille forskjellige funksjoner i samme figur.\n"
   ]
  },
  {
   "cell_type": "markdown",
   "metadata": {},
   "source": [
    "## Oppgave 1 - Enkle funksjoner og lister\n",
    "\n",
    "Når vi løser fysikk-problemer ved hjelp av kode er bruken av python-funksjoner en oversiktelig og effektiv måte å implementere løsningen på. Funskjonene i python er veldig lik generelle funskjoner innen matematikk, hvor en eller flere input-variabler returnerer et resultat. Det første vi skal se på er python-funskjoner som tar inn et tall og returnerer et tall. \n",
    "\n",
    "Når vi programmerer må vi også ha et format og lagre data på. Lister vil være essentiel i koden din for enkelt å sette opp data på en oversiktelig måte.\n",
    "\n",
    "## (a)\n",
    "Vi ønsker å lage en veldig enkel funskjon som gir oss  𝑓(𝑥)=1+𝑥  for en gitt x. I python kan denne funskjonen skrives som"
   ]
  },
  {
   "cell_type": "code",
   "execution_count": 1,
   "metadata": {},
   "outputs": [
    {
     "ename": "",
     "evalue": "",
     "output_type": "error",
     "traceback": [
      "\u001b[1;31mRunning cells with 'venv (Python 3.11.1)' requires the ipykernel package.\n",
      "\u001b[1;31mRun the following command to install 'ipykernel' into the Python environment. \n",
      "\u001b[1;31mCommand: 'c:/Users/nikol/MAIN/Uni/venv/Scripts/python.exe -m pip install ipykernel -U --force-reinstall'"
     ]
    }
   ],
   "source": [
    "def simple_funk(x):\n",
    "    return 1 + x"
   ]
  },
  {
   "cell_type": "markdown",
   "metadata": {},
   "source": [
    "Her tar funksjonen ved navn simple_funk variabelen x som en input-parameter."
   ]
  },
  {
   "cell_type": "markdown",
   "metadata": {},
   "source": [
    "Funksjonen kalles på følgende måte for verdien  𝑥=5 ,"
   ]
  },
  {
   "cell_type": "code",
   "execution_count": null,
   "metadata": {},
   "outputs": [],
   "source": [
    "simple_funk(100)"
   ]
  },
  {
   "cell_type": "markdown",
   "metadata": {},
   "source": [
    "Output er 6, som ikke er veldig overraskende. Prøv å endre input til simple_funk() i kode-blokka ovenfor, som er fem, til 100, og kjør kodeblokka for å se ny output.\n",
    "\n",
    "Hvis du ønsker å se hva funksjonen skriver ut kan du bruke print() skrevet på følgende måte, og kjøre scriptet ditt. (OBS! funskjonen din må være definert (skrevet inn i scriptet ditt) på linjene før du kaller den, slik som i dette tilfellet!)"
   ]
  },
  {
   "cell_type": "code",
   "execution_count": null,
   "metadata": {},
   "outputs": [],
   "source": [
    "print(simple_funk(12))"
   ]
  },
  {
   "cell_type": "markdown",
   "metadata": {},
   "source": [
    "Du kan lagre et tall regnet ut av funksjonen din i en variabel på følgende måte,"
   ]
  },
  {
   "cell_type": "code",
   "execution_count": null,
   "metadata": {},
   "outputs": [],
   "source": [
    "mitt_tall = simple_funk(29)\n",
    "print(mitt_tall)"
   ]
  },
  {
   "cell_type": "markdown",
   "metadata": {},
   "source": [
    "### Arbeidskrav: \n",
    "\n",
    "- Lag en funksjon med navn `not_so_simple_funk` som tar inn z som et argument og returnerer $f(z) = z^{3} - 8z^{2} + 16$. \n",
    "\n",
    "- Bruk print-funskjonen slik som ovenfor for å skrive ut $f(3), f(5.76)$ og $f(79)$."
   ]
  },
  {
   "cell_type": "code",
   "execution_count": null,
   "metadata": {},
   "outputs": [],
   "source": [
    "\"\"\"SKRIV FOR 'Oppgave 1a - Enkle funskjoner og lister (a)' HER.\n",
    "\"\"\"\n",
    "def not_so_simple_funk(z):\n",
    "    return z**3 - 8*z**2 + 16\n",
    "\n",
    "print(not_so_simple_funk(3))\n",
    "print(not_so_simple_funk(5.76))\n",
    "print(not_so_simple_funk(79))"
   ]
  },
  {
   "cell_type": "markdown",
   "metadata": {},
   "source": [
    "## (b)\n",
    "\n",
    "Ei liste i python er et objekt som kan lagre typer som integers (1,2,3,4), floats (1.1, 1.6, 9.234) eller strings ('Dette', 'er', 'tre', 'strenger'). Listene kan defineres i python som"
   ]
  },
  {
   "cell_type": "code",
   "execution_count": 6,
   "metadata": {},
   "outputs": [],
   "source": [
    "my_ints = [1,2,3,4]\n",
    "my_floats = [1.1, 1.6, 9.234]\n",
    "my_strings = ['Dette', 'er', 'fire', 'strenger']"
   ]
  },
  {
   "cell_type": "markdown",
   "metadata": {},
   "source": [
    "Felles er at listene er satt mellom [ og ], og elementene i listene er separert med komma. Når du skriver et flyttall bruker du punktum. Å \"hente ut\" et element i lista kan gjøres på følgende måte (python er 0-indeksert, slik at element nummer 1 står på \"plass\" nummer 0)"
   ]
  },
  {
   "cell_type": "code",
   "execution_count": null,
   "metadata": {},
   "outputs": [],
   "source": [
    "print(my_strings[1], my_strings[3])"
   ]
  },
  {
   "cell_type": "markdown",
   "metadata": {},
   "source": [
    "Prøv å manipuler kodeblokka ovenfor slik at den skriver ut 'er' og 'strenger' i stedet for 'Dette' og 'fire'.\n",
    "\n",
    "Hvis du vil kopiere et element fra ei liste legger du elementet i en ny variabel,"
   ]
  },
  {
   "cell_type": "code",
   "execution_count": null,
   "metadata": {},
   "outputs": [],
   "source": [
    "element_number_2 = my_floats[1]\n",
    "print(element_number_2)"
   ]
  },
  {
   "cell_type": "markdown",
   "metadata": {},
   "source": [
    "På samme måte kan et element i ei liste endres via indeksering,"
   ]
  },
  {
   "cell_type": "code",
   "execution_count": null,
   "metadata": {},
   "outputs": [],
   "source": [
    "my_ints[0] = 17\n",
    "print(my_ints)"
   ]
  },
  {
   "cell_type": "markdown",
   "metadata": {},
   "source": [
    "Hvis du ønsker å starte med ei tom liste og fylle den kan det gjøres med \"append\","
   ]
  },
  {
   "cell_type": "code",
   "execution_count": null,
   "metadata": {},
   "outputs": [],
   "source": [
    "soon_not_to_be_empty = []\n",
    "print(soon_not_to_be_empty)\n",
    "soon_not_to_be_empty.append(7234)\n",
    "print(soon_not_to_be_empty)\n",
    "soon_not_to_be_empty.append(10)\n",
    "print(soon_not_to_be_empty)"
   ]
  },
  {
   "cell_type": "markdown",
   "metadata": {},
   "source": [
    "Hvis du vil skrive ut eller systematisk anvende elementene i ei liste, kan det gjøres med ei for-løkke, hvor lista blir iterert gjennom fra posisjon 0 og oppover."
   ]
  },
  {
   "cell_type": "code",
   "execution_count": null,
   "metadata": {},
   "outputs": [],
   "source": [
    "for my_integer in my_ints:\n",
    "    soon_not_to_be_empty.append(my_integer)\n",
    "    print(my_integer)\n",
    "    \n",
    "print(soon_not_to_be_empty)"
   ]
  },
  {
   "cell_type": "markdown",
   "metadata": {},
   "source": [
    "I kodeblokka ovenfor er to kode-linjer kommentert ut med #. Fjern de to # i kode-blokka og se hvordan soon_not_to_be_empty har blitt fylt med verdiene fra my_ints."
   ]
  },
  {
   "cell_type": "markdown",
   "metadata": {},
   "source": [
    "Arbeidskrav:\n",
    "Lag ei tom liste med navn funk_values og ei liste med navn values_for_funk som inneholder tallene [1,2,3,...,10].\n",
    "\n",
    "Bruk så ei for-løkke og fyll funk_values med  [𝑓(1),𝑓(2),𝑓(3),...,𝑓(10)]  hvor  𝑓=𝑓(𝑧)  og er funksjonen du lagde med navn not_so_simple_funk. Til slutt skriver du ut lista \"values_for_funk\" med print().\n",
    "\n",
    "Hint: Pseudokode kan brukes som et vertøy for å få oversikt over kode-løsningen din før du faktisk implementerer den. Nedenfor er det et eksempel for hvordan en pseudokode for den ovennevnte koden kan se ut."
   ]
  },
  {
   "cell_type": "code",
   "execution_count": 14,
   "metadata": {},
   "outputs": [],
   "source": [
    "#Pseudokode:\n",
    "#lag tom liste \"funk_values\"\n",
    "#lag liste fylt med verdiene [1,2,3...,10] \"values_for_funk\"\n",
    "#for \"tall\" i \"values_for_funk\":\n",
    "    #regn ut og lagre verdien fra \"not_so_simple_funk\" med input \"tall\" i en variabel\n",
    "    #put verdien inn i \"funk_values\" med append\n",
    "#print \"funk_values\""
   ]
  },
  {
   "cell_type": "code",
   "execution_count": null,
   "metadata": {},
   "outputs": [],
   "source": [
    "\"\"\"SKRIV KODEN 'Oppgave 1b - Enkle funksjoner og lister (b)' HER.\n",
    "\"\"\"\n",
    "funk_values     = []\n",
    "values_for_funk = [1, 2, 3, 4, 5, 6, 7, 8, 9, 10]\n",
    "\n",
    "for tall in values_for_funk:\n",
    "    verdi = not_so_simple_funk(tall)\n",
    "    funk_values.append(verdi)\n",
    "    \n",
    "print(funk_values)"
   ]
  },
  {
   "cell_type": "markdown",
   "metadata": {},
   "source": [
    "## Oppgave 2 - Visualisering av data\n",
    "\n",
    "\n",
    "Når vi arbeider med funksjoner er det ofte fordelaktig å lage en graf i python i stedet for å skrive ut verdier til skjermen. Enten vi jobber med en teoretisk fysikk-oppgave eller en lab-oppgave, kan visualisering av dataene våre hjelpe både oss selv og andre til å forstå konsepter og egenskaper til fysiske fenomen. Dette kan gjøres med matplotlib, som du skal ha installert ved å ha Anaconda. For å hente denne funskjonaliteten kan du først skrive"
   ]
  },
  {
   "cell_type": "code",
   "execution_count": null,
   "metadata": {},
   "outputs": [],
   "source": [
    "import matplotlib.pyplot as plt\n",
    "\n",
    "# matplotlib ville ikke funke riktig, se \"oppgave_2.py\" for løsning."
   ]
  },
  {
   "cell_type": "markdown",
   "metadata": {},
   "source": [
    "Hvis vi ønsker å plotte to lister med verdier for  𝑥  og  𝑦  kan det gjøres på følgende måte,"
   ]
  },
  {
   "cell_type": "code",
   "execution_count": null,
   "metadata": {},
   "outputs": [],
   "source": [
    "x_vals = [1,2,3,4,5,6,7,8,9,10]\n",
    "y_vals = [1,4,9,16,25,36,49,64,81,100]\n",
    "\n",
    "plt.figure(0)\n",
    "plt.plot(x_vals, y_vals)\n",
    "plt.show()"
   ]
  },
  {
   "cell_type": "markdown",
   "metadata": {},
   "source": [
    "Denne grafen sier lite om hva som foregår, derfor er det nyttig å legge til tittel og navn på aksene,"
   ]
  },
  {
   "cell_type": "code",
   "execution_count": null,
   "metadata": {},
   "outputs": [],
   "source": [
    "plt.figure(1)  # Initialize a new figure\n",
    "plt.plot(x_vals, y_vals, '--r')  #  Plot x-vals and y-vals\n",
    "plt.xlabel('x-verdier', fontsize=8)  # Add name to x-axis, change fontsize\n",
    "plt.ylabel('y-verdier', fontsize=8)  # Add name to y-axis, change fontsize\n",
    "plt.title('En kvadratisk funksjon')  # Add title to the figure\n",
    "plt.xticks(fontsize=14)  # Change fontsize of x-ticks\n",
    "plt.yticks(fontsize=14)  # Change fontsize of y-ticks\n",
    "plt.show()  # Show the figure"
   ]
  },
  {
   "cell_type": "markdown",
   "metadata": {},
   "source": [
    "I `plt.plot()` er det gitt `'--r'` som et argument. `'--'` gir stipla linje, og `'r'` sier at fargen skal være rød. Matplotlib har veldig mange funskjonaliteter for å visualisere dataene dine på en god måte, f.eks. fontsize på xlabel, ylabel osv. Fontsizen på akse-titlene i figuren ovenfor er veldig små. Endre på fontsize i `plt.xlabel()` og `plt.ylabel()` slik at det blir enklere å lese akse-titlene. Kjøre kodeblokka på nytt når du har gjort endringene.\n",
    "\n",
    "### Arbeidskrav:\n",
    "\n",
    "- Bruk matplotlib for å visualisere `values_for_funk` og `funk_values` ($f(z)$) du har regnet ut tidligere. Gi navn på aksene og en tittel. "
   ]
  },
  {
   "cell_type": "code",
   "execution_count": null,
   "metadata": {},
   "outputs": [],
   "source": [
    "\"\"\"SKRIV KODEN FOR 'Oppgave 2 - Visualisering av data' HER.\n",
    "\"\"\"\n",
    "# se fil: \"oppgave_2.py\""
   ]
  },
  {
   "cell_type": "markdown",
   "metadata": {},
   "source": [
    "## Oppgave 3 - Lese og skrive fra/til fil\n",
    "\n",
    "I mange tilfeller kan det være nyttig å bruke en form for filhåndtering mens du programmerer. Hvis du har skrevet kode som bruker lang tid på å kjøre kan du kunne spare deg mye tid hvis du lagrer dataene dine hvis koden din krasjer. Hvis du har målinger, f.eks. fra et lab-verktøy, kan det også være hensiktsmessig å kunne lese disse dataene inn i python og manipulere dem. Det enkleste eksempelet er å skrive en tekst streng til ei fil. Fila 'my_file.txt' blir oppretta og kommentaren blir skrevet til fila, før fila lukkes, "
   ]
  },
  {
   "cell_type": "code",
   "execution_count": 2,
   "metadata": {},
   "outputs": [],
   "source": [
    "with open('my_file.txt', 'a') as file:\n",
    "\n",
    "    file.write('Hei! Dette er en kommentar\\n')"
   ]
  },
  {
   "cell_type": "markdown",
   "metadata": {},
   "source": [
    "I mange tilfeller har vi ikke strenger vi ønsker å lagre, men lister eller arrays med tall. Da kan andre filformat være fordelaktig, som .csv-filtypen, som enkelt kan leses med Excel, notepad o.l. Vi ønsker å bruke et filformat som er komma-separert, slik at dataene våre er separert i forskjellige kolonner. Da kan vi få bruk for Numpy, som er inkludert i Anaconda, som du installerte i forrige øving. I følgende kode-blokk importerer vi numpy, og kaller numpy np. np.savetxt tar først inn navnet på fila vi vil lagre til, etterfulgt av ei liste med tre lister, hvor hver av de tre listene representerer et punkt i x-y-planet $(x_i, y_i)$. .csv-fila blir opprettet i samme mappe som Jupyter Notebooken din hvis den allerede ikke eksisterer. Deretter tar vi ut datene vi lagret inn i variabelen 'data_from_csv', og vi kan se at dataene vi lagret er blitt lest korrekt fra .csv-fila. "
   ]
  },
  {
   "cell_type": "code",
   "execution_count": null,
   "metadata": {},
   "outputs": [],
   "source": [
    "import numpy as np\n",
    "\n",
    "np.savetxt('my_file.csv', [[1, 2], [3, 3], [7, 4]], delimiter=',')\n",
    "\n",
    "data_from_csv = np.loadtxt('my_file.csv', delimiter=',')\n",
    "print(data_from_csv)\n",
    "\n"
   ]
  },
  {
   "cell_type": "markdown",
   "metadata": {},
   "source": [
    "Kjør kodeblokk ovenfor på din pc. Fila 'my_file.csv' skal nå ligge i samme mappe som Jupyter Notebooken din. Se om du finner fila, og åpne den for å verifisere at dataene er lagret i to forskjellige kolonner for x- og y-verdiene.\n",
    "\n",
    "Hvis vi ønsker å hente ut alle x-verdiene og y-verdiene for seg kan det gjøres på følgende måte, hvor [:,i] henter ut all rader i kollonne i. Som vi ser fra 'data_from_csv' er x-verdiene lagret i kolonne 0 (husk python er 0-indeksert) og y-verdiene er lagret i kolonne 1. Her skriver vi også ut _typen_ til arrayene vi får, som viser at np.loadtxt() ikke returnerer lister, men numpy arrays."
   ]
  },
  {
   "cell_type": "code",
   "execution_count": null,
   "metadata": {},
   "outputs": [],
   "source": [
    "x_vals = data_from_csv[:,0]\n",
    "y_vals = data_from_csv[:,1]\n",
    "\n",
    "print(x_vals)\n",
    "print(y_vals)\n",
    "print(type(x_vals))\n",
    "print(type(y_vals))"
   ]
  },
  {
   "cell_type": "markdown",
   "metadata": {},
   "source": [
    "Du kan endre på x- og y-verdiene gitt til `np.savetxt()` og kjøre kodeblokkene igjen for å se at ei ny .csv-fil blir oppretta med de nye verdiene. Numpy arrays kan også brukes med matplotlib, slik vi gjorde med lister i forrige øving, "
   ]
  },
  {
   "cell_type": "code",
   "execution_count": null,
   "metadata": {},
   "outputs": [],
   "source": [
    "import matplotlib.pyplot as plt\n",
    "\n",
    "%matplotlib inline\n",
    "plt.figure(0)\n",
    "plt.plot(x_vals, y_vals, 'o', label='Målinger')\n",
    "plt.xlabel('x-verdier')\n",
    "plt.ylabel('y-verdier')\n",
    "plt.grid(True)\n",
    "plt.legend()\n",
    "plt.show()"
   ]
  },
  {
   "cell_type": "markdown",
   "metadata": {},
   "source": [
    "Her har vi lagt til en _legend_ som gir informasjon om hva som er i plottet. Strengen assosiert med grafen er gitt før plt.legend() blir kalt. Vi har også lagt til et grid. Målepunktene er illustrert som \"prikker\", ved å skrive `'o'` i `plt.plot()`. "
   ]
  },
  {
   "cell_type": "markdown",
   "metadata": {},
   "source": [
    "\n",
    "### Arbeidskrav:\n",
    "\n",
    "- Lag to lister $x_{\\text{init}} = [1,2,3,4,5]$ og $y_{\\text{init}} = [1,2,3,4,5]$ som korresponderer til fem punkter i x-y-planet og lagre disse på en oversiktelig måte i ei .csv-fil ved bruk av `np.savetxt()`. Husk å gi navn på .csv-fila.\n",
    "\n",
    "- Hent ut x- og y-listene fra fila ved bruk av `np.loadtxt()`.\n",
    "\n",
    "- lag en kopi av $y_{\\text{init}}$-dataene du leste fra .csv-fila, og manipuler elementene i denne lista slik at du får en ny liste, $y$, som inneholder kuben av alle elementene i $y_{\\text{init}}$.\n",
    "\n",
    "- Plot deretter både $y_{\\text{init}}$ og $y$ som en funksjon av $x_{\\text{init}}$ med matplotlib i samme figur. \n",
    "\n",
    "- Gi de to funskjonene legend labels 'Data fra .csv' og 'Manipulert data'. \n",
    "\n",
    "__Hint:__ Du kan plotte to data-sett i samme figur på følgende måte,"
   ]
  },
  {
   "cell_type": "code",
   "execution_count": null,
   "metadata": {},
   "outputs": [],
   "source": [
    "plt.figure(1)\n",
    "plt.plot([0, 2, 3], [0, 2, 3])\n",
    "plt.plot([0, 2], [1, 1])\n",
    "plt.show()"
   ]
  },
  {
   "cell_type": "markdown",
   "metadata": {},
   "source": [
    "__Hint:__ For å opphøye et tall eller numpy array i et annet tall kan du gjøre det på følgende måte,"
   ]
  },
  {
   "cell_type": "code",
   "execution_count": null,
   "metadata": {},
   "outputs": [],
   "source": [
    "my_int = 5\n",
    "print(my_int**3)\n",
    "numpy_arr = np.array([1,2,3])\n",
    "print(numpy_arr**2)"
   ]
  },
  {
   "cell_type": "code",
   "execution_count": null,
   "metadata": {},
   "outputs": [],
   "source": [
    "\"\"\"SKRIV KODEN DIN FOR 'Oppgave 3 - Lese og skrive fra/til fil' HER.\n",
    "\"\"\"\n",
    "# Se: \"oppgave_3.py\" for løsning"
   ]
  },
  {
   "cell_type": "markdown",
   "metadata": {},
   "source": [
    "## Oppgave 4 - Filskriving i praksis\n"
   ]
  },
  {
   "cell_type": "markdown",
   "metadata": {},
   "source": [
    "Det neste steget er å regne ut et resultat i python, lagre dette, og illustrere resultatet. På denne måten er du sikker på at selv om plottet dit blir feil eller det kommer en feil senere i koden, har du datatene som du har regnet ut tilgjengelig til senere bruk. I denne oppgaven skal vi studere og visualisere en bølge med et lineært voksende ledd.\n",
    "\n",
    "### Arbeidskrav:\n",
    "\n",
    "- Definer en funksjon `angle_func` som returnerer $f(\\theta) = A\\sin{\\theta} + 0.1\\theta$. Funksjonen må ta inn både A og $\\theta$. \n",
    "\n",
    "- Finn det analytiske uttrykket for den deriverte av $f(\\theta)$ med hensyn på $\\theta$.\n",
    "\n",
    "- Definer en funksjon kalt `deriv_angle_func` som regner ut og returnerer den deriverte for en gitt $A$ og $\\theta$.\n",
    "\n",
    "- Lag deretter ei liste eller array med 40 verdier for $\\theta$ mellom $0$ og $2\\pi$.\n",
    "\n",
    "- Bruk disse $\\theta$-verdiene til å lage to lister/arrays med $f(\\theta)$ og $f'(\\theta)$ med $A=2$.\n",
    "\n",
    "- Lagre de tre listene du nå har i .csv-format. Husk å lagre dataene dine på en oversiktelig måte.\n",
    "\n",
    "- Plot deretter $f(\\theta)$ og $f'(\\theta)$ som en funksjon av $\\theta$ i samme figur. \n",
    "\n",
    "- Gi navn til aksene, en passende tittel og en legend i figuren din som indikerer hva som er $f(\\theta)$ og $f'(\\theta)$.\n",
    " \n",
    " __Hint:__ Funksjonen fra numpy kalt linspace kan enkelt lage en numpy array med $\\theta$-verdier. `np.linspace(a,b,N)` returnerer en numpy array fra og med `a` til og med `b` med `N` elementer."
   ]
  },
  {
   "cell_type": "code",
   "execution_count": null,
   "metadata": {},
   "outputs": [],
   "source": [
    "##### \"\"\"SKRIV KODEN DIN FOR 'Oppgave 4 - Filskriving i praksis' HER.\n",
    "\"\"\"\n",
    "# se: \"oppgave_4.py\" for løsning"
   ]
  },
  {
   "cell_type": "markdown",
   "metadata": {},
   "source": [
    "## Ekstraoppgave (frivillig) - Datahåndtering i ustrukturert data-sett"
   ]
  },
  {
   "cell_type": "markdown",
   "metadata": {},
   "source": [
    "Du har kommet over ei .csv-fil med målinger fra en lab som du skal hente inn i python og analysere. Problemet er at personen som har lagd dataene før deg ikke har fulgt med, og har lagret dataene feil. .csv-fila har to kolonner som inneholder x-y-punkter for 3 *forskjellige* funskjoner, som er lagret etter hverandre. Din oppgave er å identifisere hvordan fila er konstruert feil og hvordan den kan bli fiksa.\n",
    "\n",
    "### Frivillig arbeidskrav: \n",
    "\n",
    "- Les inn fila \"three_funcs.csv\" ved hjelp av `loadtxt()`. \n",
    "- Bruk matplotlib til å plotte x- og y-verdiene du har fått fra fila, og identifiser de tre forskjellige funksjonene. \n",
    "- Åpne også fila i Excel e.l. og se på x-verdiene. De kan gi deg et hint om hvordan de tre data-settene feilaktig er lagt inn.\n",
    "- Når du har identifisert de tre forskjellige funskjonene, del input fra \"three_funcs.csv\" inn i de tre datasettene, og lagre de tre datasettene i tre forskjellige .csv-filer. "
   ]
  },
  {
   "cell_type": "code",
   "execution_count": null,
   "metadata": {},
   "outputs": [],
   "source": [
    "\"\"\"SKRIV KODEN DIN FOR 'Ekstraoppgave (frivillig) - Datahåndtering i ustrukturert data-sett' HER.\n",
    "\"\"\""
   ]
  },
  {
   "cell_type": "code",
   "execution_count": null,
   "metadata": {},
   "outputs": [],
   "source": []
  }
 ],
 "metadata": {
  "kernelspec": {
   "display_name": "Python 3 (ipykernel)",
   "language": "python",
   "name": "python3"
  },
  "language_info": {
   "codemirror_mode": {
    "name": "ipython",
    "version": 3
   },
   "file_extension": ".py",
   "mimetype": "text/x-python",
   "name": "python",
   "nbconvert_exporter": "python",
   "pygments_lexer": "ipython3",
   "version": "3.11.1"
  }
 },
 "nbformat": 4,
 "nbformat_minor": 2
}
