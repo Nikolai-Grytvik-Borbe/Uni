{
 "cells": [
  {
   "cell_type": "markdown",
   "metadata": {
    "deletable": false,
    "editable": false,
    "run_control": {
     "frozen": true
    }
   },
   "source": [
    "<nav class=\"navbar navbar-default\">\n",
    "  <div class=\"container-fluid\">\n",
    "    <div class=\"navbar-header\">\n",
    "      <a class=\"navbar-brand\" href=\"_Oving2.ipynb\">Øving 2</a>\n",
    "    </div>\n",
    "    <ul class=\"nav navbar-nav\">\n",
    "    <li><a href=\"Ulike%20typer%20if-setninger.ipynb\">Ulike typer if-setninger</a></li>\n",
    "    <li><a href=\"Sammenligning%20av%20strenger.ipynb\">Sammenligning av strenger</a></li>\n",
    "    <li><a href=\"Logiske%20operatorer%20og%20logiske%20uttrykk.ipynb\">Logiske operatorer og logiske uttrykk</a></li>\n",
    "    <li><a href=\"Forbrytelse%20og%20straff.ipynb\">Forbrytelse og straff</a></li>\n",
    "    <li ><a href=\"Aarstider.ipynb\">Årstider</a></li>\n",
    "    <li class=\"active\"><a href=\"Tekstbasert%20spill.ipynb\">Tekstbasert spill</a></li>\n",
    "    <li><a href=\"Andregradsligning.ipynb\">Andregradsligning</a></li>\n",
    "    <li><a href=\"Betingede%20funksjoner.ipynb\">Betingede funksjoner</a></li>\n",
    "    <li><a href=\"Sjakkbrett.ipynb\">Sjakkbrett</a></li>\n",
    "    <li><a href=\"Billettpriser%20og%20rabatter.ipynb\">Billettpriser og rabatter</a></li>\n",
    "    <li><a href=\"Skatteetaten.ipynb\">Skatteetaten</a></li>\n",
    "    <li><a href=\"Epletigging.ipynb\">Datamaskinen som tigget epler</a></li>\n",
    "    </ul>\n",
    "  </div>\n",
    "</nav>\n",
    "\n",
    "\n",
    "# Årstider\n",
    "\n",
    "**Læringsmål:**\n",
    "- Betingelser\n",
    "- Logiske uttrykk\n",
    "\n",
    "I denne oppgaven skal en bruker skrive inn dag og måned og få ut hvilken årstid datoen tilhører.\n",
    "\n",
    "Et år har (offisielt) fire årstider, og i denne oppgaven tar vi utgangspunkt i at årstidsskiftene følger tabellen nedenfor. **(Merk deg datoene)**\n",
    "\n",
    "\n",
    "Årstid | Første dag\n",
    "--- | ---\n",
    "Vår | 20. mars\n",
    "Sommer | 21. juni\n",
    "Høst | 22. september\n",
    "Vinter | 21. desember"
   ]
  },
  {
   "cell_type": "markdown",
   "metadata": {
    "deletable": false,
    "run_control": {
     "frozen": true
    }
   },
   "source": [
    "**Oppgave:** Lag en funksjon som tar inn en måned som en streng og en dag i denne måneden som et tall fra brukeren. Funskjonen skal så returnere årstiden assosiert med denne datoen.\n",
    "\n",
    "Du kan anta at inputen er en gyldig dato.\n",
    "\n",
    "**Eksempel på kjøring:**\n",
    "```python\n",
    ">>>arstid('mars', 20)\n",
    "\n",
    "Vår\n",
    "```  \n",
    "  \n",
    "```python\n",
    ">>>arstid('januar', 2)\n",
    "\n",
    "Vinter\n",
    "```  \n",
    "  \n",
    "```python\n",
    ">>>arstid('november', 17)\n",
    "\n",
    "Høst\n",
    "```\n",
    "\n",
    "___Skriv din kode her:___"
   ]
  },
  {
   "cell_type": "code",
   "execution_count": 2,
   "metadata": {
    "editable": true,
    "slideshow": {
     "slide_type": ""
    },
    "tags": []
   },
   "outputs": [
    {
     "name": "stdout",
     "output_type": "stream",
     "text": [
      "Vår\n"
     ]
    }
   ],
   "source": [
    "def finn_årstid(måned: str, dag: int) -> str:\n",
    "    måned_til_nummer = {\n",
    "        \"januar\": 1, \n",
    "        \"februar\": 2, \n",
    "        \"mars\": 3, \n",
    "        \"april\": 4,\n",
    "        \"mai\": 5, \n",
    "        \"juni\": 6, \n",
    "        \"juli\": 7, \n",
    "        \"august\": 8,\n",
    "        \"september\": 9, \n",
    "        \"oktober\": 10, \n",
    "        \"november\": 11, \n",
    "        \"desember\": 12\n",
    "    }\n",
    "    \n",
    "    måned_nummer = måned_til_nummer[måned.lower()]\n",
    "    \n",
    "    vår_start = (3, 20)\n",
    "    sommer_start = (6, 21)\n",
    "    høst_start = (9, 22)\n",
    "    vinter_start = (12, 21)\n",
    "    \n",
    "    if (måned_nummer == vår_start[0] and dag >= vår_start[1]) or (3 < måned_nummer < 6):\n",
    "        return \"Vår\"\n",
    "    elif (måned_nummer == sommer_start[0] and dag >= sommer_start[1]) or (6 < måned_nummer < 9):\n",
    "        return \"Sommer\"\n",
    "    elif (måned_nummer == høst_start[0] and dag >= høst_start[1]) or (9 < måned_nummer < 12):\n",
    "        return \"Høst\"\n",
    "    else:\n",
    "        return \"Vinter\"\n",
    "\n",
    "print(finn_årstid(\"mars\", 21)) "
   ]
  }
 ],
 "metadata": {
  "celltoolbar": "Edit Metadata",
  "kernelspec": {
   "display_name": "Python 3 (ipykernel)",
   "language": "python",
   "name": "python3"
  },
  "language_info": {
   "codemirror_mode": {
    "name": "ipython",
    "version": 3
   },
   "file_extension": ".py",
   "mimetype": "text/x-python",
   "name": "python",
   "nbconvert_exporter": "python",
   "pygments_lexer": "ipython3",
   "version": "3.11.6"
  },
  "toc": {
   "base_numbering": 1,
   "nav_menu": {},
   "number_sections": false,
   "sideBar": true,
   "skip_h1_title": false,
   "title_cell": "Table of Contents",
   "title_sidebar": "Contents",
   "toc_cell": false,
   "toc_position": {},
   "toc_section_display": true,
   "toc_window_display": false
  }
 },
 "nbformat": 4,
 "nbformat_minor": 4
}
