{
 "cells": [
  {
   "cell_type": "markdown",
   "metadata": {
    "deletable": false,
    "run_control": {
     "frozen": true
    },
    "slideshow": {
     "slide_type": ""
    },
    "tags": []
   },
   "source": [
    "<nav class=\"navbar navbar-default\">\n",
    "  <div class=\"container-fluid\">\n",
    "    <div class=\"navbar-header\">\n",
    "      <a class=\"navbar-brand\" href=\"_Oving2.ipynb\">Øving 2</a>\n",
    "    </div>\n",
    "    <ul class=\"nav navbar-nav\">\n",
    "    <li><a href=\"Ulike%20typer%20if-setninger.ipynb\">Ulike typer if-setninger</a></li>\n",
    "    <li><a href=\"Sammenligning%20av%20strenger.ipynb\">Sammenligning av strenger</a></li>\n",
    "    <li><a href=\"Logiske%20operatorer%20og%20logiske%20uttrykk.ipynb\">Logiske operatorer og logiske uttrykk</a></li>\n",
    "    <li><a href=\"Forbrytelse%20og%20straff.ipynb\">Forbrytelse og straff</a></li>\n",
    "    <li ><a href=\"Aarstider.ipynb\">Årstider</a></li>\n",
    "    <li class=\"active\"><a href=\"Tekstbasert%20spill.ipynb\">Tekstbasert spill</a></li>\n",
    "    <li><a href=\"Andregradsligning.ipynb\">Andregradsligning</a></li>\n",
    "    <li><a href=\"Betingede%20funksjoner.ipynb\">Betingede funksjoner</a></li>\n",
    "    <li><a href=\"Sjakkbrett.ipynb\">Sjakkbrett</a></li>\n",
    "    <li><a href=\"Billettpriser%20og%20rabatter.ipynb\">Billettpriser og rabatter</a></li>\n",
    "    <li><a href=\"Skatteetaten.ipynb\">Skatteetaten</a></li>\n",
    "    <li><a href=\"Epletigging.ipynb\">Datamaskinen som tigget epler</a></li>\n",
    "    </ul>\n",
    "  </div>\n",
    "</nav>\n",
    "\n",
    "# Sjakkbrett\n",
    "\n",
    "**Læringsmål:**\n",
    "\n",
    "* Betingelser\n",
    "* Logiske uttrykk\n",
    "* Nøstede if-setninger\n",
    " \n",
    "Posisjoner på et sjakkbrett kan identifiseres med en bokstav og et tall. Bokstaven identifiserer kolonnen (kalt \"linjen\" i sjakk), og tallet identifiserer raden.\n",
    "\n",
    "\n",
    "![img](./../../Resources/Images/chessboard.png)\n"
   ]
  },
  {
   "cell_type": "markdown",
   "metadata": {
    "deletable": false,
    "editable": false,
    "run_control": {
     "frozen": true
    }
   },
   "source": [
    "### a)"
   ]
  },
  {
   "cell_type": "markdown",
   "metadata": {
    "deletable": false,
    "run_control": {
     "frozen": true
    }
   },
   "source": [
    "**I denne oppgaven skal du lage en funksjon som tar inn en posisjon fra brukeren, og bruker if-setninger til å finne ut hvilken farge ruten for denne posisjonen har.**\n",
    "\n",
    "Ta utgangspunkt i de tre kodelinjene under, som hjelper deg litt på vei. Disse viser hvordan man kan bruke indeksering av en strengvariabel (her kalt `pos`) for å finne enkelttegn.\n",
    "\n",
    "Indeks 0 er det første tegnet i strengen, når `pos = 'a5'` vil dermed `pos[0]` være `'a'` og `pos[1]` være `'5'`.\n",
    "\n",
    "I din kode må du\n",
    "\n",
    "* bytte ut kodelinjen `posisjon = 'a5'` med en kodelinje som i stedet ber bruker om å taste inn posisjonen\n",
    "* legge til mer kode under kodelinjen `tall = ...` for å ta en beslutning om den innskrevne posisjonen er hvit eller svart rute.\n",
    "\n",
    "Eksempel på kjøring:\n",
    "\n",
    "  \n",
    "```python\n",
    "farge_på_posisjon('a5')  \n",
    "Svart  \n",
    "```\n",
    "  \n",
    "```python\n",
    "farge_på_posisjon('d3')  \n",
    "Hvit  \n",
    "```\n",
    "  \n",
    "```python\n",
    "farge_på_posisjon('f6')\n",
    "Svart\n",
    "```"
   ]
  },
  {
   "cell_type": "code",
   "execution_count": 19,
   "metadata": {
    "ExecuteTime": {
     "end_time": "2019-07-02T08:14:18.283300Z",
     "start_time": "2019-07-02T08:14:18.272588Z"
    }
   },
   "outputs": [
    {
     "name": "stdout",
     "output_type": "stream",
     "text": [
      "Play a move\n"
     ]
    },
    {
     "name": "stdin",
     "output_type": "stream",
     "text": [
      " d\n"
     ]
    },
    {
     "ename": "IndexError",
     "evalue": "string index out of range",
     "output_type": "error",
     "traceback": [
      "\u001b[0;31m---------------------------------------------------------------------------\u001b[0m",
      "\u001b[0;31mIndexError\u001b[0m                                Traceback (most recent call last)",
      "Cell \u001b[0;32mIn[19], line 24\u001b[0m\n\u001b[1;32m     22\u001b[0m \u001b[38;5;28mprint\u001b[39m(\u001b[38;5;124m\"\u001b[39m\u001b[38;5;124mPlay a move\u001b[39m\u001b[38;5;124m\"\u001b[39m)\n\u001b[1;32m     23\u001b[0m pos \u001b[38;5;241m=\u001b[39m \u001b[38;5;28mstr\u001b[39m(\u001b[38;5;28minput\u001b[39m())\n\u001b[0;32m---> 24\u001b[0m \u001b[43mfarge_på_posisjon\u001b[49m\u001b[43m(\u001b[49m\u001b[43mpos\u001b[49m\u001b[43m)\u001b[49m\n",
      "Cell \u001b[0;32mIn[19], line 9\u001b[0m, in \u001b[0;36mfarge_på_posisjon\u001b[0;34m(pos)\u001b[0m\n\u001b[1;32m      6\u001b[0m \u001b[38;5;28;01melse\u001b[39;00m:\n\u001b[1;32m      7\u001b[0m     col \u001b[38;5;241m=\u001b[39m \u001b[38;5;241m0\u001b[39m\n\u001b[0;32m----> 9\u001b[0m tall \u001b[38;5;241m=\u001b[39m \u001b[38;5;28mint\u001b[39m(\u001b[43mpos\u001b[49m\u001b[43m[\u001b[49m\u001b[38;5;241;43m1\u001b[39;49m\u001b[43m]\u001b[49m)              \u001b[38;5;66;03m#gir variabelen tall verdien til andre del av argumentet\u001b[39;00m\n\u001b[1;32m     11\u001b[0m \u001b[38;5;28;01mif\u001b[39;00m tall \u001b[38;5;241m%\u001b[39m \u001b[38;5;241m2\u001b[39m \u001b[38;5;241m==\u001b[39m \u001b[38;5;241m1\u001b[39m \u001b[38;5;129;01mand\u001b[39;00m col \u001b[38;5;241m==\u001b[39m \u001b[38;5;241m1\u001b[39m:\n\u001b[1;32m     12\u001b[0m     \u001b[38;5;28mprint\u001b[39m(\u001b[38;5;124m\"\u001b[39m\u001b[38;5;124mSvart\u001b[39m\u001b[38;5;124m\"\u001b[39m)\n",
      "\u001b[0;31mIndexError\u001b[0m: string index out of range"
     ]
    }
   ],
   "source": [
    "def farge_på_posisjon(pos):\n",
    " \n",
    "    bokstav = pos[0]                #gir variabelen bokstav verdien til første del av argumentet\n",
    "    if bokstav == \"a\" or bokstav == \"c\" or bokstav == \"e\" or bokstav == \"g\":\n",
    "        col = 1\n",
    "    else:\n",
    "        col = 0\n",
    "\n",
    "    tall = int(pos[1])              #gir variabelen tall verdien til andre del av argumentet\n",
    "\n",
    "    if tall % 2 == 1 and col == 1:\n",
    "        print(\"Svart\")\n",
    "    elif tall % 2 == 0 and col == 0:\n",
    "        print(\"Svart\")\n",
    "    else:\n",
    "        print(\"Hvit\")\n",
    "  \n",
    "    # Legg til resten av koden her\n",
    "\n",
    "true = True\n",
    "while true:\n",
    "    print(\"Play a move\")\n",
    "    pos = str(input())\n",
    "    farge_på_posisjon(pos)"
   ]
  },
  {
   "cell_type": "markdown",
   "metadata": {
    "deletable": false,
    "editable": false,
    "heading_collapsed": true,
    "run_control": {
     "frozen": true
    }
   },
   "source": [
    "#### Hint"
   ]
  },
  {
   "cell_type": "markdown",
   "metadata": {
    "deletable": false,
    "editable": false,
    "hidden": true,
    "run_control": {
     "frozen": true
    }
   },
   "source": [
    "Modulo (`%`)"
   ]
  },
  {
   "cell_type": "markdown",
   "metadata": {
    "deletable": false,
    "editable": false,
    "run_control": {
     "frozen": true
    }
   },
   "source": [
    "## b) Valgfri ekstraoppgave"
   ]
  },
  {
   "cell_type": "markdown",
   "metadata": {
    "deletable": false,
    "run_control": {
     "frozen": true
    }
   },
   "source": [
    "Denne trenger du ikke ha fått til for å få godkjent deloppgaven.\n",
    "\n",
    "**Utvid programmet så det også håndterer mulig feil input fra bruker, på følgende måte**:\n",
    "\n",
    "* Hvis brukeren skriver inn en streng med en annen lengde enn 2 tegn (enten kortere eller lenger), skal programmet svare `\"Feil input. Du må skrive akkurat to tegn\"` og så avslutte.\n",
    "* Hvis innskrevet tekst er 2 tegn lang men ikke tilsvarer en sjakkrute, skal programmet svare som vist under. Dette skal altså skje hvis første tegn noe annet enn en bokstav A-H eller a-h, eller andre tegn er noe annet enn et tall 1-8.\n",
    "\n",
    "  \n",
    "```\n",
    "gyldig_posisjon('A9')\n",
    "\n",
    "Feil input.\n",
    "Første tegn må være en bokstav A-H eller a-h\n",
    "Andre tegn må være et tall 1-8\n",
    "```\n",
    "\n",
    "Hvis lengden er to tegn, med bokstav og tall innen lovlige verdiområder, skal programmet gi samme resultat som i kjøringene i oppgave a"
   ]
  },
  {
   "cell_type": "code",
   "execution_count": 18,
   "metadata": {},
   "outputs": [
    {
     "name": "stdout",
     "output_type": "stream",
     "text": [
      "Play a move\n"
     ]
    },
    {
     "name": "stdin",
     "output_type": "stream",
     "text": [
      " d\n"
     ]
    }
   ],
   "source": [
    "def farge_på_posisjon(pos):\n",
    " \n",
    "    bokstav = pos[0]                #gir variabelen bokstav verdien til første del av argumentet\n",
    "    if bokstav == \"a\" or bokstav == \"c\" or bokstav == \"e\" or bokstav == \"g\":\n",
    "        col = 1\n",
    "    elif bokstav == \"b\" or bokstav == \"d\" or bokstav == \"f\" or bokstav == \"h\":\n",
    "        col = 0\n",
    "    else:\n",
    "        print(\"ikke gyldig kolonne\")\n",
    "        return None\n",
    "\n",
    "    tall = int(pos[1])              #gir variabelen tall verdien til andre del av argumentet\n",
    "\n",
    "    if tall > 8:\n",
    "        print(\"ikke gyldig rad\")\n",
    "        return None\n",
    "    if tall % 2 == 1 and col == 1:\n",
    "        print(\"Svart\")\n",
    "    elif tall % 2 == 0 and col == 0:\n",
    "        print(\"Svart\")\n",
    "    else:\n",
    "        print(\"Hvit\")\n",
    "  \n",
    "    # Legg til resten av koden her\n",
    "\n",
    "true = True\n",
    "while true:\n",
    "    print(\"Play a move\")\n",
    "    pos = str(input()).lower()\n",
    "    if pos.lower() == \"d\":\n",
    "        break\n",
    "    if len(pos) != 2:\n",
    "        print(\"Feil input\")\n",
    "        continue\n",
    "    farge_på_posisjon(pos)"
   ]
  },
  {
   "cell_type": "code",
   "execution_count": null,
   "metadata": {},
   "outputs": [],
   "source": []
  }
 ],
 "metadata": {
  "celltoolbar": "Edit Metadata",
  "kernelspec": {
   "display_name": "Python 3 (ipykernel)",
   "language": "python",
   "name": "python3"
  },
  "language_info": {
   "codemirror_mode": {
    "name": "ipython",
    "version": 3
   },
   "file_extension": ".py",
   "mimetype": "text/x-python",
   "name": "python",
   "nbconvert_exporter": "python",
   "pygments_lexer": "ipython3",
   "version": "3.11.6"
  },
  "toc": {
   "base_numbering": 1,
   "nav_menu": {},
   "number_sections": false,
   "sideBar": true,
   "skip_h1_title": false,
   "title_cell": "Table of Contents",
   "title_sidebar": "Contents",
   "toc_cell": false,
   "toc_position": {},
   "toc_section_display": true,
   "toc_window_display": false
  }
 },
 "nbformat": 4,
 "nbformat_minor": 4
}
