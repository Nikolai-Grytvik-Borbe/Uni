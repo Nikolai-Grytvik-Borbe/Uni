{
 "cells": [
  {
   "cell_type": "markdown",
   "metadata": {
    "editable": true,
    "slideshow": {
     "slide_type": ""
    },
    "tags": []
   },
   "source": [
    "<nav class=\"navbar navbar-default\">\n",
    "  <div class=\"container-fluid\">\n",
    "    <div class=\"navbar-header\">\n",
    "      <a class=\"navbar-brand\" href=\"_Oving2.ipynb\">Øving 2</a>\n",
    "    </div>\n",
    "    <ul class=\"nav navbar-nav\">\n",
    "    <li><a href=\"Ulike%20typer%20if-setninger.ipynb\">Ulike typer if-setninger</a></li>\n",
    "    <li><a href=\"Sammenligning%20av%20strenger.ipynb\">Sammenligning av strenger</a></li>\n",
    "    <li><a href=\"Logiske%20operatorer%20og%20logiske%20uttrykk.ipynb\">Logiske operatorer og logiske uttrykk</a></li>\n",
    "    <li><a href=\"Forbrytelse%20og%20straff.ipynb\">Forbrytelse og straff</a></li>\n",
    "    <li ><a href=\"Aarstider.ipynb\">Årstider</a></li>\n",
    "    <li class=\"active\"><a href=\"Tekstbasert%20spill.ipynb\">Tekstbasert spill</a></li>\n",
    "    <li><a href=\"Andregradsligning.ipynb\">Andregradsligning</a></li>\n",
    "    <li><a href=\"Betingede%20funksjoner.ipynb\">Betingede funksjoner</a></li>\n",
    "    <li><a href=\"Sjakkbrett.ipynb\">Sjakkbrett</a></li>\n",
    "    <li><a href=\"Billettpriser%20og%20rabatter.ipynb\">Billettpriser og rabatter</a></li>\n",
    "    <li><a href=\"Skatteetaten.ipynb\">Skatteetaten</a></li>\n",
    "    <li><a href=\"Epletigging.ipynb\">Datamaskinen som tigget epler</a></li>\n",
    "    </ul>\n",
    "  </div>\n",
    "</nav>\n",
    "\n",
    "# Billettpriser og rabatter\n",
    "\n",
    "**Læringsmål:**\n",
    "\n",
    "* Betingelser\n",
    "\n",
    "I denne oppgaven skal du bruke betingelser (if-elif-else) til å bestemme billettprisen til en bruker basert på input fra brukeren. \n",
    "\n",
    "Transportselskapet «TravelevatoR» tilbyr reiser fra Trondheim til Pythonville. Ved bestilling minst 14 dager før man skal reise, kan man få minipris 199. Normal billett koster 440. "
   ]
  },
  {
   "cell_type": "markdown",
   "metadata": {
    "deletable": false,
    "editable": false,
    "run_control": {
     "frozen": true
    }
   },
   "source": [
    "### a)"
   ]
  },
  {
   "cell_type": "markdown",
   "metadata": {
    "deletable": false,
    "run_control": {
     "frozen": true
    }
   },
   "source": [
    "Skriv en funskjon med to mulige oppførsler som vist under:\n",
    "\n",
    "  \n",
    "```python\n",
    ">>>billettpris(15)\n",
    "  \n",
    "Du kan få minipris: 199,-  \n",
    "```\n",
    "\n",
    "```python\n",
    ">>>billettpris(10)\n",
    "\n",
    "Minipris ikke lenger tilgjengelig, du må betale fullpris: 440,-  \n",
    "```\n",
    "***Skriv koden din under***"
   ]
  },
  {
   "cell_type": "code",
   "execution_count": null,
   "metadata": {
    "ExecuteTime": {
     "end_time": "2019-07-02T08:22:50.607851Z",
     "start_time": "2019-07-02T08:22:50.600802Z"
    }
   },
   "outputs": [],
   "source": [
    "def billettpris(dager):\n",
    "    if dager >= 14:\n",
    "        print(\"Du kan få minipris: 199,-\")\n",
    "    else:\n",
    "        print(\"Minipris ikke lenger tilgjengelig, du må betale fullpris: 440,-\")\n",
    "        "
   ]
  },
  {
   "cell_type": "markdown",
   "metadata": {
    "deletable": false,
    "editable": false,
    "run_control": {
     "frozen": true
    }
   },
   "source": [
    "### b)"
   ]
  },
  {
   "cell_type": "markdown",
   "metadata": {
    "deletable": false,
    "run_control": {
     "frozen": true
    }
   },
   "source": [
    "Det hender av og til at kunder ikke ønsker minipris, men heller vil ha fullprisbillett. Dette fordi minipris ikke kan refunderes / endres. Utvid derfor funksjonen så kunder kan legge til informasjon om de ønsker minipris – men kun der det er relevant. To eksempel på kjøring etter utvidelsen:\n",
    "\n",
    "  \n",
    "```python\n",
    ">>>billetpris(15, 'J')\n",
    "\n",
    "Du kan få minipris og ønsker dette, billettpris: 199,-\n",
    "```\n",
    "  \n",
    "```python\n",
    ">>>billetpris(15, 'N')\n",
    "\n",
    "Du kan få minipris, men ønsker ikke det. Da tilbyr vi fullpris: 440,-\n",
    "```\n",
    "\n",
    "***Skriv koden din under***"
   ]
  },
  {
   "cell_type": "code",
   "execution_count": 4,
   "metadata": {},
   "outputs": [
    {
     "name": "stdout",
     "output_type": "stream",
     "text": [
      "Du kan få minipris og ønsker dette, billettpris: 199,-\n",
      "Du kan få minipris, men ønsker ikke dette. Da tilbyr vi fullpris: 440,-\n",
      "Minipris ikke lenger tilgjengelig, du må betale fullpris: 440,-\n"
     ]
    }
   ],
   "source": [
    "def billetpris(dager, lyst=\"J\"):\n",
    "    if dager >= 14 and lyst.lower() == \"j\":\n",
    "        print(\"Du kan få minipris og ønsker dette, billettpris: 199,-\")\n",
    "    elif dager >= 14 and lyst.lower() == \"n\":\n",
    "        print(\"Du kan få minipris, men ønsker ikke dette. Da tilbyr vi fullpris: 440,-\")\n",
    "    else:\n",
    "        print(\"Minipris ikke lenger tilgjengelig, du må betale fullpris: 440,-\")\n",
    "\n",
    "billetpris(15, \"J\")\n",
    "billetpris(15, \"N\")\n",
    "billetpris(10)"
   ]
  },
  {
   "cell_type": "markdown",
   "metadata": {
    "deletable": false,
    "editable": false,
    "run_control": {
     "frozen": true
    }
   },
   "source": [
    "### c)"
   ]
  },
  {
   "cell_type": "markdown",
   "metadata": {
    "deletable": false,
    "run_control": {
     "frozen": true
    }
   },
   "source": [
    "Det blir besluttet at barn under 16 gis 50% rabatt. Senior (60+), militær i uniform, og student gis 25% rabatt. Om man f.eks. både er 60+ og militær / student, får man likevel bare 25% rabatt. Alle disse rabattene gjelder kun i forhold til fullpris, for minipris gis ingen rabatter. Endre funksjonen så kunder må gi informasjon om alder, evt. også om student / militær, og regner ut riktig pris.\n",
    "\n",
    "Eksempel på kjøring av koden:\n",
    "\n",
    "  \n",
    "```python\n",
    ">>>billettpris(15, 'J', 'militær')\n",
    "\n",
    "Du kan få minipris og ønsker dette, billettpris: 199,-\n",
    "```\n",
    "\n",
    "```python\n",
    ">>>billettpris(15, 'N', 'militær')\n",
    "\n",
    "Du kan få minipris, men ønsker ikke det. Du får rabatt grunnet at du er militær - billettpris: 330,-\n",
    "```\n",
    "\n",
    "```python\n",
    ">>>billettpris(10, 'N', 'barn')\n",
    "\n",
    "Du kan ikke få minipris. Du får rabatt grunnet at du er barn - billettpris: 220,-\n",
    "```"
   ]
  },
  {
   "cell_type": "code",
   "execution_count": 31,
   "metadata": {
    "editable": true,
    "slideshow": {
     "slide_type": ""
    },
    "tags": []
   },
   "outputs": [
    {
     "name": "stdout",
     "output_type": "stream",
     "text": [
      "Du får rabatt grunnet at du er student\n",
      "Pris:  330.0 ,-\n",
      "Du får rabatt grunnet at du er student\n",
      "Pris:  330.0 ,-\n",
      "Du får seniorrabatt, billettpris: 330.0,-\n",
      "Du kan få minipris og ønsker dette, billettpris: 199,-\n",
      "Du kan få minipris, men ønsker ikke dette. Da tilbyr vi fullpris: 440,-\n"
     ]
    }
   ],
   "source": [
    "def billettpris(dager, lyst=\"J\", alder=50, militær=\"N\", student=\"N\"):\n",
    "    if dager >= 14:\n",
    "        if lyst.lower() == \"j\":\n",
    "            print(\"Du kan få minipris og ønsker dette, billettpris: 199,-\")\n",
    "        elif lyst.lower() == \"n\":\n",
    "            print(\"Du kan få minipris, men ønsker ikke dette. Da tilbyr vi fullpris: 440,-\")\n",
    "        return None\n",
    "\n",
    "    if militær.lower() == \"n\":\n",
    "        militær = False\n",
    "    elif militær.lower() == \"j\":\n",
    "        militær = True\n",
    "    else:\n",
    "        militær = None\n",
    "\n",
    "\n",
    "    if student.lower() == \"n\":\n",
    "        student = False\n",
    "    elif student.lower() == \"j\":\n",
    "        student = True\n",
    "    else:\n",
    "        student = None\n",
    "\n",
    "    \n",
    "    pris = 440\n",
    "    if alder < 16:\n",
    "        print(\"Du får rabatt grunnet du er barn - billettpris: \", pris*0.5, \",-\")\n",
    "    elif student or militær:\n",
    "        print(f\"Du får rabatt grunnet at du er {'militær og student' if militær and student else ('student' if student else 'militær')}\")\n",
    "        print(\"Pris: \", pris*0.75, \",-\")\n",
    "    elif alder > 60: # enklere og lese, dumt å skrive det som over\n",
    "        print(f\"Du får seniorrabatt, billettpris: {pris*0.75},-\")\n",
    "billettpris(13, \"J\", militær=\"n\", student=\"j\")\n",
    "billettpris(13, \"J\", militær=\"N\", student=\"j\")\n",
    "billettpris(12, alder=70)\n",
    "billettpris(17, alder=70)\n",
    "billettpris(18, alder=70, lyst=\"N\") # <- bug her men gidder ikke å fikse\n",
    "\n"
   ]
  },
  {
   "cell_type": "markdown",
   "metadata": {
    "deletable": false,
    "editable": false,
    "run_control": {
     "frozen": true
    }
   },
   "source": [
    "### d) Valgfri oppgave"
   ]
  },
  {
   "cell_type": "markdown",
   "metadata": {
    "deletable": false,
    "run_control": {
     "frozen": true
    }
   },
   "source": [
    "Du får godkjent oppgaven om du bare har klart a, b og delvis c, men prøv gjerne på denne litt vanskeligere d også.\n",
    "\n",
    "Etter lobbyvirksomhet fra studentorganisasjoner endres reglene på følgende måte: Studenter får også litt rabatt på miniprisbilletter (10%),  samt at personer som både er studenter og militære  / 60+, eller studenter og barn, får to rabatter, og dermed bare betaler 0,75 * 0,75 eller 0.75 * 0.5 av fullpris. Merk at personer som er 60+ og militære, men ikke studenter, eller barn og militære, men ikke studenter, ikke får noen slik multiplisert rabatt, de må fortsatt nøye seg med den ene rabatten de hadde før, og de vanlige 199 for minipris. Endre funksjonen så den fungerer korrekt gitt de nye reglene."
   ]
  },
  {
   "cell_type": "code",
   "execution_count": null,
   "metadata": {},
   "outputs": [],
   "source": []
  }
 ],
 "metadata": {
  "celltoolbar": "Edit Metadata",
  "kernelspec": {
   "display_name": "Python 3 (ipykernel)",
   "language": "python",
   "name": "python3"
  },
  "language_info": {
   "codemirror_mode": {
    "name": "ipython",
    "version": 3
   },
   "file_extension": ".py",
   "mimetype": "text/x-python",
   "name": "python",
   "nbconvert_exporter": "python",
   "pygments_lexer": "ipython3",
   "version": "3.11.6"
  },
  "toc": {
   "base_numbering": 1,
   "nav_menu": {},
   "number_sections": false,
   "sideBar": true,
   "skip_h1_title": false,
   "title_cell": "Table of Contents",
   "title_sidebar": "Contents",
   "toc_cell": false,
   "toc_position": {},
   "toc_section_display": true,
   "toc_window_display": false
  }
 },
 "nbformat": 4,
 "nbformat_minor": 4
}
